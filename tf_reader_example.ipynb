{
 "cells": [
  {
   "cell_type": "code",
   "execution_count": 1,
   "metadata": {},
   "outputs": [],
   "source": [
    "import h5py\n",
    "import tensorflow as tf\n",
    "import numpy as np\n",
    "import math\n",
    "from matplotlib import pyplot as plt\n",
    "from tensorflow.keras import layers, models, Model, Input\n"
   ]
  },
  {
   "cell_type": "code",
   "execution_count": 2,
   "metadata": {},
   "outputs": [],
   "source": [
    "hdf5_file = \"cal_data.h5\""
   ]
  },
  {
   "cell_type": "code",
   "execution_count": 3,
   "metadata": {},
   "outputs": [],
   "source": [
    "def hdf5_generator():\n",
    "    with h5py.File(hdf5_file, 'r') as f:\n",
    "        data = f['data']\n",
    "        labels = f['labels']\n",
    "        num_samples = data.shape[0]\n",
    "        \n",
    "        for i in range(num_samples):\n",
    "            yield data[i], labels[i]"
   ]
  },
  {
   "cell_type": "code",
   "execution_count": 4,
   "metadata": {},
   "outputs": [],
   "source": [
    "def _fixup_shape(images, labels):\n",
    "    images.set_shape([32, 20, 110, 11])\n",
    "    labels.set_shape([32,])\n",
    "    return images, labels"
   ]
  },
  {
   "cell_type": "code",
   "execution_count": 5,
   "metadata": {},
   "outputs": [
    {
     "name": "stdout",
     "output_type": "stream",
     "text": [
      "Data loaded\n"
     ]
    }
   ],
   "source": [
    "dataset = tf.data.Dataset.from_generator(\n",
    "    hdf5_generator,\n",
    "    output_signature=(\n",
    "        tf.TensorSpec(shape=(20, 110, 11), dtype=tf.float32),\n",
    "        tf.TensorSpec(shape=(), dtype=tf.int16)\n",
    "    )\n",
    ")\n",
    "# Optimize the pipeline\n",
    "dataset = (dataset\n",
    "           .batch(32,drop_remainder=True)\n",
    "           .map(_fixup_shape)\n",
    "           .prefetch(tf.data.AUTOTUNE))\n",
    "print(\"Data loaded\")"
   ]
  },
  {
   "cell_type": "code",
   "execution_count": 7,
   "metadata": {},
   "outputs": [],
   "source": [
    "model = models.Sequential([\n",
    "    # Input layer\n",
    "    layers.Input(shape=(20, 110, 11, 1)),\n",
    "    \n",
    "    # First 3D Convolutional layer\n",
    "    layers.Conv3D(32, kernel_size=(3, 3, 3), activation='relu'),\n",
    "    layers.MaxPooling3D(pool_size=(2, 2, 2)),\n",
    "    \n",
    "    # Second 3D Convolutional layer\n",
    "    layers.Conv3D(64, kernel_size=(3, 3, 3), activation='relu'),\n",
    "    layers.MaxPooling3D(pool_size=(2, 2, 2)),\n",
    "    \n",
    "    # Flatten the 3D features\n",
    "    layers.Flatten(),\n",
    "    \n",
    "    # Fully connected layers\n",
    "    layers.Dense(128, activation='relu'),\n",
    "    layers.Dense(64, activation='relu'),\n",
    "    \n",
    "    # Output layer (e.g., regression output or classification)\n",
    "    layers.Dense(1, activation='linear')  # 'linear' for regression tasks\n",
    "])\n",
    "\n",
    "# Compile the model\n",
    "model.compile(optimizer='adam',\n",
    "              loss='mean_squared_error',  # or 'categorical_crossentropy' for classification\n",
    "              metrics=['mean_absolute_error'])"
   ]
  },
  {
   "cell_type": "code",
   "execution_count": 8,
   "metadata": {},
   "outputs": [
    {
     "name": "stdout",
     "output_type": "stream",
     "text": [
      "Training\n",
      "Epoch 1/12\n",
      "  14062/Unknown \u001b[1m1499s\u001b[0m 105ms/step - loss: 98.2634 - mean_absolute_error: 4.5018"
     ]
    },
    {
     "ename": "InvalidArgumentError",
     "evalue": "Graph execution error:\n\nDetected at node IteratorGetNext defined at (most recent call last):\n  File \"C:\\Users\\przem\\AppData\\Local\\Programs\\Python\\Python310\\lib\\runpy.py\", line 196, in _run_module_as_main\n\n  File \"C:\\Users\\przem\\AppData\\Local\\Programs\\Python\\Python310\\lib\\runpy.py\", line 86, in _run_code\n\n  File \"c:\\Users\\przem\\OneDrive\\Desktop\\VS_explorer\\projekt_studencki\\.venv\\lib\\site-packages\\ipykernel_launcher.py\", line 18, in <module>\n\n  File \"c:\\Users\\przem\\OneDrive\\Desktop\\VS_explorer\\projekt_studencki\\.venv\\lib\\site-packages\\traitlets\\config\\application.py\", line 1075, in launch_instance\n\n  File \"c:\\Users\\przem\\OneDrive\\Desktop\\VS_explorer\\projekt_studencki\\.venv\\lib\\site-packages\\ipykernel\\kernelapp.py\", line 739, in start\n\n  File \"c:\\Users\\przem\\OneDrive\\Desktop\\VS_explorer\\projekt_studencki\\.venv\\lib\\site-packages\\tornado\\platform\\asyncio.py\", line 205, in start\n\n  File \"C:\\Users\\przem\\AppData\\Local\\Programs\\Python\\Python310\\lib\\asyncio\\base_events.py\", line 600, in run_forever\n\n  File \"C:\\Users\\przem\\AppData\\Local\\Programs\\Python\\Python310\\lib\\asyncio\\base_events.py\", line 1896, in _run_once\n\n  File \"C:\\Users\\przem\\AppData\\Local\\Programs\\Python\\Python310\\lib\\asyncio\\events.py\", line 80, in _run\n\n  File \"c:\\Users\\przem\\OneDrive\\Desktop\\VS_explorer\\projekt_studencki\\.venv\\lib\\site-packages\\ipykernel\\kernelbase.py\", line 545, in dispatch_queue\n\n  File \"c:\\Users\\przem\\OneDrive\\Desktop\\VS_explorer\\projekt_studencki\\.venv\\lib\\site-packages\\ipykernel\\kernelbase.py\", line 534, in process_one\n\n  File \"c:\\Users\\przem\\OneDrive\\Desktop\\VS_explorer\\projekt_studencki\\.venv\\lib\\site-packages\\ipykernel\\kernelbase.py\", line 437, in dispatch_shell\n\n  File \"c:\\Users\\przem\\OneDrive\\Desktop\\VS_explorer\\projekt_studencki\\.venv\\lib\\site-packages\\ipykernel\\ipkernel.py\", line 362, in execute_request\n\n  File \"c:\\Users\\przem\\OneDrive\\Desktop\\VS_explorer\\projekt_studencki\\.venv\\lib\\site-packages\\ipykernel\\kernelbase.py\", line 778, in execute_request\n\n  File \"c:\\Users\\przem\\OneDrive\\Desktop\\VS_explorer\\projekt_studencki\\.venv\\lib\\site-packages\\ipykernel\\ipkernel.py\", line 449, in do_execute\n\n  File \"c:\\Users\\przem\\OneDrive\\Desktop\\VS_explorer\\projekt_studencki\\.venv\\lib\\site-packages\\ipykernel\\zmqshell.py\", line 549, in run_cell\n\n  File \"c:\\Users\\przem\\OneDrive\\Desktop\\VS_explorer\\projekt_studencki\\.venv\\lib\\site-packages\\IPython\\core\\interactiveshell.py\", line 3075, in run_cell\n\n  File \"c:\\Users\\przem\\OneDrive\\Desktop\\VS_explorer\\projekt_studencki\\.venv\\lib\\site-packages\\IPython\\core\\interactiveshell.py\", line 3130, in _run_cell\n\n  File \"c:\\Users\\przem\\OneDrive\\Desktop\\VS_explorer\\projekt_studencki\\.venv\\lib\\site-packages\\IPython\\core\\async_helpers.py\", line 128, in _pseudo_sync_runner\n\n  File \"c:\\Users\\przem\\OneDrive\\Desktop\\VS_explorer\\projekt_studencki\\.venv\\lib\\site-packages\\IPython\\core\\interactiveshell.py\", line 3334, in run_cell_async\n\n  File \"c:\\Users\\przem\\OneDrive\\Desktop\\VS_explorer\\projekt_studencki\\.venv\\lib\\site-packages\\IPython\\core\\interactiveshell.py\", line 3517, in run_ast_nodes\n\n  File \"c:\\Users\\przem\\OneDrive\\Desktop\\VS_explorer\\projekt_studencki\\.venv\\lib\\site-packages\\IPython\\core\\interactiveshell.py\", line 3577, in run_code\n\n  File \"C:\\Users\\przem\\AppData\\Local\\Temp\\ipykernel_22692\\2311859733.py\", line 3, in <module>\n\n  File \"c:\\Users\\przem\\OneDrive\\Desktop\\VS_explorer\\projekt_studencki\\.venv\\lib\\site-packages\\keras\\src\\utils\\traceback_utils.py\", line 117, in error_handler\n\n  File \"c:\\Users\\przem\\OneDrive\\Desktop\\VS_explorer\\projekt_studencki\\.venv\\lib\\site-packages\\keras\\src\\backend\\tensorflow\\trainer.py\", line 368, in fit\n\n  File \"c:\\Users\\przem\\OneDrive\\Desktop\\VS_explorer\\projekt_studencki\\.venv\\lib\\site-packages\\keras\\src\\backend\\tensorflow\\trainer.py\", line 216, in function\n\n  File \"c:\\Users\\przem\\OneDrive\\Desktop\\VS_explorer\\projekt_studencki\\.venv\\lib\\site-packages\\keras\\src\\backend\\tensorflow\\trainer.py\", line 129, in multi_step_on_iterator\n\nIncompatible shapes at component 0: expected [32,20,110,11] but got [16,20,110,11].\n\t [[{{node IteratorGetNext}}]] [Op:__inference_multi_step_on_iterator_1927]",
     "output_type": "error",
     "traceback": [
      "\u001b[1;31m---------------------------------------------------------------------------\u001b[0m",
      "\u001b[1;31mInvalidArgumentError\u001b[0m                      Traceback (most recent call last)",
      "Cell \u001b[1;32mIn[8], line 3\u001b[0m\n\u001b[0;32m      1\u001b[0m \u001b[38;5;28mprint\u001b[39m(\u001b[38;5;124m\"\u001b[39m\u001b[38;5;124mTraining\u001b[39m\u001b[38;5;124m\"\u001b[39m)\n\u001b[0;32m      2\u001b[0m \u001b[38;5;66;03m#Trening\u001b[39;00m\n\u001b[1;32m----> 3\u001b[0m history \u001b[38;5;241m=\u001b[39m \u001b[43mmodel\u001b[49m\u001b[38;5;241;43m.\u001b[39;49m\u001b[43mfit\u001b[49m\u001b[43m(\u001b[49m\n\u001b[0;32m      4\u001b[0m \u001b[43m    \u001b[49m\u001b[43mdataset\u001b[49m\u001b[43m,\u001b[49m\n\u001b[0;32m      5\u001b[0m \u001b[43m    \u001b[49m\u001b[43mepochs\u001b[49m\u001b[38;5;241;43m=\u001b[39;49m\u001b[38;5;241;43m12\u001b[39;49m\u001b[43m,\u001b[49m\u001b[43m      \u001b[49m\u001b[38;5;66;43;03m# Number of training epochs\u001b[39;49;00m\n\u001b[0;32m      6\u001b[0m \u001b[43m    \u001b[49m\u001b[38;5;66;43;03m#batch_size=16,  # Number of samples per batch - !! maybe too much because data is already batched !!\u001b[39;49;00m\n\u001b[0;32m      7\u001b[0m \u001b[43m    \u001b[49m\u001b[43mshuffle\u001b[49m\u001b[38;5;241;43m=\u001b[39;49m\u001b[38;5;28;43;01mTrue\u001b[39;49;00m\u001b[43m,\u001b[49m\u001b[43m   \u001b[49m\u001b[38;5;66;43;03m# Shuffle training data at each epoch\u001b[39;49;00m\n\u001b[0;32m      8\u001b[0m \u001b[43m    \u001b[49m\u001b[43mverbose\u001b[49m\u001b[38;5;241;43m=\u001b[39;49m\u001b[38;5;241;43m1\u001b[39;49m\u001b[43m       \u001b[49m\u001b[38;5;66;43;03m# Show training progress (1 = progress bar, 2 = epoch-only)\u001b[39;49;00m\n\u001b[0;32m      9\u001b[0m \u001b[43m)\u001b[49m\n\u001b[0;32m     10\u001b[0m \u001b[38;5;28mprint\u001b[39m(\u001b[38;5;124m\"\u001b[39m\u001b[38;5;124mTraining done\u001b[39m\u001b[38;5;124m\"\u001b[39m)\n",
      "File \u001b[1;32mc:\\Users\\przem\\OneDrive\\Desktop\\VS_explorer\\projekt_studencki\\.venv\\lib\\site-packages\\keras\\src\\utils\\traceback_utils.py:122\u001b[0m, in \u001b[0;36mfilter_traceback.<locals>.error_handler\u001b[1;34m(*args, **kwargs)\u001b[0m\n\u001b[0;32m    119\u001b[0m     filtered_tb \u001b[38;5;241m=\u001b[39m _process_traceback_frames(e\u001b[38;5;241m.\u001b[39m__traceback__)\n\u001b[0;32m    120\u001b[0m     \u001b[38;5;66;03m# To get the full stack trace, call:\u001b[39;00m\n\u001b[0;32m    121\u001b[0m     \u001b[38;5;66;03m# `keras.config.disable_traceback_filtering()`\u001b[39;00m\n\u001b[1;32m--> 122\u001b[0m     \u001b[38;5;28;01mraise\u001b[39;00m e\u001b[38;5;241m.\u001b[39mwith_traceback(filtered_tb) \u001b[38;5;28;01mfrom\u001b[39;00m \u001b[38;5;28;01mNone\u001b[39;00m\n\u001b[0;32m    123\u001b[0m \u001b[38;5;28;01mfinally\u001b[39;00m:\n\u001b[0;32m    124\u001b[0m     \u001b[38;5;28;01mdel\u001b[39;00m filtered_tb\n",
      "File \u001b[1;32mc:\\Users\\przem\\OneDrive\\Desktop\\VS_explorer\\projekt_studencki\\.venv\\lib\\site-packages\\tensorflow\\python\\eager\\execute.py:53\u001b[0m, in \u001b[0;36mquick_execute\u001b[1;34m(op_name, num_outputs, inputs, attrs, ctx, name)\u001b[0m\n\u001b[0;32m     51\u001b[0m \u001b[38;5;28;01mtry\u001b[39;00m:\n\u001b[0;32m     52\u001b[0m   ctx\u001b[38;5;241m.\u001b[39mensure_initialized()\n\u001b[1;32m---> 53\u001b[0m   tensors \u001b[38;5;241m=\u001b[39m pywrap_tfe\u001b[38;5;241m.\u001b[39mTFE_Py_Execute(ctx\u001b[38;5;241m.\u001b[39m_handle, device_name, op_name,\n\u001b[0;32m     54\u001b[0m                                       inputs, attrs, num_outputs)\n\u001b[0;32m     55\u001b[0m \u001b[38;5;28;01mexcept\u001b[39;00m core\u001b[38;5;241m.\u001b[39m_NotOkStatusException \u001b[38;5;28;01mas\u001b[39;00m e:\n\u001b[0;32m     56\u001b[0m   \u001b[38;5;28;01mif\u001b[39;00m name \u001b[38;5;129;01mis\u001b[39;00m \u001b[38;5;129;01mnot\u001b[39;00m \u001b[38;5;28;01mNone\u001b[39;00m:\n",
      "\u001b[1;31mInvalidArgumentError\u001b[0m: Graph execution error:\n\nDetected at node IteratorGetNext defined at (most recent call last):\n  File \"C:\\Users\\przem\\AppData\\Local\\Programs\\Python\\Python310\\lib\\runpy.py\", line 196, in _run_module_as_main\n\n  File \"C:\\Users\\przem\\AppData\\Local\\Programs\\Python\\Python310\\lib\\runpy.py\", line 86, in _run_code\n\n  File \"c:\\Users\\przem\\OneDrive\\Desktop\\VS_explorer\\projekt_studencki\\.venv\\lib\\site-packages\\ipykernel_launcher.py\", line 18, in <module>\n\n  File \"c:\\Users\\przem\\OneDrive\\Desktop\\VS_explorer\\projekt_studencki\\.venv\\lib\\site-packages\\traitlets\\config\\application.py\", line 1075, in launch_instance\n\n  File \"c:\\Users\\przem\\OneDrive\\Desktop\\VS_explorer\\projekt_studencki\\.venv\\lib\\site-packages\\ipykernel\\kernelapp.py\", line 739, in start\n\n  File \"c:\\Users\\przem\\OneDrive\\Desktop\\VS_explorer\\projekt_studencki\\.venv\\lib\\site-packages\\tornado\\platform\\asyncio.py\", line 205, in start\n\n  File \"C:\\Users\\przem\\AppData\\Local\\Programs\\Python\\Python310\\lib\\asyncio\\base_events.py\", line 600, in run_forever\n\n  File \"C:\\Users\\przem\\AppData\\Local\\Programs\\Python\\Python310\\lib\\asyncio\\base_events.py\", line 1896, in _run_once\n\n  File \"C:\\Users\\przem\\AppData\\Local\\Programs\\Python\\Python310\\lib\\asyncio\\events.py\", line 80, in _run\n\n  File \"c:\\Users\\przem\\OneDrive\\Desktop\\VS_explorer\\projekt_studencki\\.venv\\lib\\site-packages\\ipykernel\\kernelbase.py\", line 545, in dispatch_queue\n\n  File \"c:\\Users\\przem\\OneDrive\\Desktop\\VS_explorer\\projekt_studencki\\.venv\\lib\\site-packages\\ipykernel\\kernelbase.py\", line 534, in process_one\n\n  File \"c:\\Users\\przem\\OneDrive\\Desktop\\VS_explorer\\projekt_studencki\\.venv\\lib\\site-packages\\ipykernel\\kernelbase.py\", line 437, in dispatch_shell\n\n  File \"c:\\Users\\przem\\OneDrive\\Desktop\\VS_explorer\\projekt_studencki\\.venv\\lib\\site-packages\\ipykernel\\ipkernel.py\", line 362, in execute_request\n\n  File \"c:\\Users\\przem\\OneDrive\\Desktop\\VS_explorer\\projekt_studencki\\.venv\\lib\\site-packages\\ipykernel\\kernelbase.py\", line 778, in execute_request\n\n  File \"c:\\Users\\przem\\OneDrive\\Desktop\\VS_explorer\\projekt_studencki\\.venv\\lib\\site-packages\\ipykernel\\ipkernel.py\", line 449, in do_execute\n\n  File \"c:\\Users\\przem\\OneDrive\\Desktop\\VS_explorer\\projekt_studencki\\.venv\\lib\\site-packages\\ipykernel\\zmqshell.py\", line 549, in run_cell\n\n  File \"c:\\Users\\przem\\OneDrive\\Desktop\\VS_explorer\\projekt_studencki\\.venv\\lib\\site-packages\\IPython\\core\\interactiveshell.py\", line 3075, in run_cell\n\n  File \"c:\\Users\\przem\\OneDrive\\Desktop\\VS_explorer\\projekt_studencki\\.venv\\lib\\site-packages\\IPython\\core\\interactiveshell.py\", line 3130, in _run_cell\n\n  File \"c:\\Users\\przem\\OneDrive\\Desktop\\VS_explorer\\projekt_studencki\\.venv\\lib\\site-packages\\IPython\\core\\async_helpers.py\", line 128, in _pseudo_sync_runner\n\n  File \"c:\\Users\\przem\\OneDrive\\Desktop\\VS_explorer\\projekt_studencki\\.venv\\lib\\site-packages\\IPython\\core\\interactiveshell.py\", line 3334, in run_cell_async\n\n  File \"c:\\Users\\przem\\OneDrive\\Desktop\\VS_explorer\\projekt_studencki\\.venv\\lib\\site-packages\\IPython\\core\\interactiveshell.py\", line 3517, in run_ast_nodes\n\n  File \"c:\\Users\\przem\\OneDrive\\Desktop\\VS_explorer\\projekt_studencki\\.venv\\lib\\site-packages\\IPython\\core\\interactiveshell.py\", line 3577, in run_code\n\n  File \"C:\\Users\\przem\\AppData\\Local\\Temp\\ipykernel_22692\\2311859733.py\", line 3, in <module>\n\n  File \"c:\\Users\\przem\\OneDrive\\Desktop\\VS_explorer\\projekt_studencki\\.venv\\lib\\site-packages\\keras\\src\\utils\\traceback_utils.py\", line 117, in error_handler\n\n  File \"c:\\Users\\przem\\OneDrive\\Desktop\\VS_explorer\\projekt_studencki\\.venv\\lib\\site-packages\\keras\\src\\backend\\tensorflow\\trainer.py\", line 368, in fit\n\n  File \"c:\\Users\\przem\\OneDrive\\Desktop\\VS_explorer\\projekt_studencki\\.venv\\lib\\site-packages\\keras\\src\\backend\\tensorflow\\trainer.py\", line 216, in function\n\n  File \"c:\\Users\\przem\\OneDrive\\Desktop\\VS_explorer\\projekt_studencki\\.venv\\lib\\site-packages\\keras\\src\\backend\\tensorflow\\trainer.py\", line 129, in multi_step_on_iterator\n\nIncompatible shapes at component 0: expected [32,20,110,11] but got [16,20,110,11].\n\t [[{{node IteratorGetNext}}]] [Op:__inference_multi_step_on_iterator_1927]"
     ]
    }
   ],
   "source": [
    "print(\"Training\")\n",
    "#Trening\n",
    "history = model.fit(\n",
    "    dataset,\n",
    "    epochs=12,      # Number of training epochs\n",
    "    #batch_size=16,  # Number of samples per batch - !! maybe too much because data is already batched !!\n",
    "    shuffle=True,   # Shuffle training data at each epoch\n",
    "    verbose=1       # Show training progress (1 = progress bar, 2 = epoch-only)\n",
    ")\n",
    "print(\"Training done\")"
   ]
  }
 ],
 "metadata": {
  "kernelspec": {
   "display_name": ".venv",
   "language": "python",
   "name": "python3"
  },
  "language_info": {
   "codemirror_mode": {
    "name": "ipython",
    "version": 3
   },
   "file_extension": ".py",
   "mimetype": "text/x-python",
   "name": "python",
   "nbconvert_exporter": "python",
   "pygments_lexer": "ipython3",
   "version": "3.10.7"
  }
 },
 "nbformat": 4,
 "nbformat_minor": 2
}
